{
 "cells": [
  {
   "cell_type": "code",
   "execution_count": 1,
   "metadata": {},
   "outputs": [
    {
     "name": "stdout",
     "output_type": "stream",
     "text": [
      "Requirement already satisfied: pip in ./venv/lib/python3.12/site-packages (24.3.1)\n"
     ]
    }
   ],
   "source": [
    "# install langchain and all other helper libraries\n",
    "# chromadb is the database to store vector embedings\n",
    "!pip3 install --upgrade pip\n",
    "!pip3 install --quiet --upgrade langchain langchain-community langchain-openai chromadb\n",
    "# pypdf reads pdf using python\n",
    "# streamlit is the api to build webapplication using python\n",
    "!pip3 install --quiet  --upgrade pypdf pandas streamlit python-dotenv"
   ]
  },
  {
   "cell_type": "markdown",
   "metadata": {},
   "source": [
    "# 1. Import all necessary Packages and Modules"
   ]
  },
  {
   "cell_type": "code",
   "execution_count": 2,
   "metadata": {},
   "outputs": [
    {
     "name": "stderr",
     "output_type": "stream",
     "text": [
      "/Users/prerakthakur/Documents/Learning/AI/RAG/RAG_from_pdf_project1/venv/lib/python3.12/site-packages/IPython/core/interactiveshell.py:3577: LangChainDeprecationWarning: As of langchain-core 0.3.0, LangChain uses pydantic v2 internally. The langchain_core.pydantic_v1 module was a compatibility shim for pydantic v1, and should no longer be used. Please update the code to import from Pydantic directly.\n",
      "\n",
      "For example, replace imports like: `from langchain_core.pydantic_v1 import BaseModel`\n",
      "with: `from pydantic import BaseModel`\n",
      "or the v1 compatibility namespace if you are working in a code base that has not been fully upgraded to pydantic 2 yet. \tfrom pydantic.v1 import BaseModel\n",
      "\n",
      "  exec(code_obj, self.user_global_ns, self.user_ns)\n"
     ]
    }
   ],
   "source": [
    "# import langchain modules\n",
    "from langchain.document_loaders import PyPDFLoader\n",
    "from langchain.text_splitter import RecursiveCharacterTextSplitter\n",
    "from langchain_openai import OpenAIEmbeddings, ChatOpenAI\n",
    "from langchain.vectorstores import Chroma\n",
    "from langchain_core.runnables import RunnablePassthrough\n",
    "from langchain_core.prompts import ChatPromptTemplate\n",
    "from langchain_core.pydantic_v1 import BaseModel, Field\n",
    "\n",
    "import os\n",
    "import shutil\n",
    "import tempfile\n",
    "import streamlit as st\n",
    "import pandas as pd\n",
    "from dotenv import load_dotenv"
   ]
  },
  {
   "cell_type": "code",
   "execution_count": 3,
   "metadata": {},
   "outputs": [],
   "source": [
    "# read all key value value pairs from hidden file .env and sets them as environment variables\n",
    "load_dotenv()\n",
    "OPENAI_API_KEY = os.environ.get(\"OPENAI_API_KEY\")"
   ]
  },
  {
   "cell_type": "markdown",
   "metadata": {},
   "source": [
    "# 2. Define and load llm"
   ]
  },
  {
   "cell_type": "code",
   "execution_count": 4,
   "metadata": {},
   "outputs": [
    {
     "name": "stdout",
     "output_type": "stream",
     "text": [
      "The term \"Seven Wonders of the World\" can refer to different lists, but the two most commonly referenced are the **Seven Wonders of the Ancient World** and the **New Seven Wonders of the World**.\n",
      "\n",
      "### Seven Wonders of the Ancient World:\n",
      "1. **Great Pyramid of Giza** (Egypt) - The only surviving wonder, it was built as a tomb for the Pharaoh Khufu.\n",
      "2. **Hanging Gardens of Babylon** (Iraq) - Said to be an extraordinary series of tiered gardens, though its existence is debated.\n",
      "3. **Statue of Zeus at Olympia** (Greece) - A giant statue made by the sculptor Phidias, honoring the god Zeus.\n",
      "4. **Temple of Artemis at Ephesus** (Turkey) - A large temple dedicated to the goddess Artemis, known for its grandeur.\n",
      "5. **Mausoleum at Halicarnassus** (Turkey) - A tomb built for Mausolus, a satrap of the Persian Empire, known for its architectural beauty.\n",
      "6. **Colossus of Rhodes** (Greece) - A giant statue that stood at the entrance of the harbor of Rhodes.\n",
      "7. **Lighthouse of Alexandria (Pharos of Alexandria)** (Egypt) - A towering lighthouse built on the island of Pharos to guide sailors.\n",
      "\n",
      "### New Seven Wonders of the World:\n",
      "This list was compiled through a global poll conducted by the New7Wonders Foundation in 2007. The winners are:\n",
      "1. **Great Wall of China** (China) - A series of fortifications made of various materials, built to protect against invasions.\n",
      "2. **Petra** (Jordan) - An archaeological city famous for its rock-cut architecture and water conduit system.\n",
      "3. **Christ the Redeemer** (Brazil) - A large statue of Jesus Christ in Rio de Janeiro, symbolizing peace and welcoming.\n",
      "4. **Machu Picchu** (Peru) - An ancient Incan city located in the Andes mountains, known for its archaeological significance.\n",
      "5. **Chichen Itza** (Mexico) - A large pre-Columbian archaeological site built by the Maya civilization.\n",
      "6. **Roman Colosseum** (Italy) - An ancient amphitheater in Rome, known for its grandeur and historical significance.\n",
      "7. **Taj Mahal** (India) - A white marble mausoleum built by Mughal Emperor Shah Jahan in memory of his wife Mumtaz Mahal.\n",
      "\n",
      "These lists highlight remarkable human achievements and architectural wonders from different eras and cultures.\n"
     ]
    }
   ],
   "source": [
    "llm = ChatOpenAI(model=\"gpt-4o-mini\", api_key=OPENAI_API_KEY, temperature=0)\n",
    "\n",
    "# test the model\n",
    "llm.invoke\n",
    "response = llm.invoke(\"what are the 7 wonders of the worlds?\")\n",
    "print(response.content)"
   ]
  },
  {
   "cell_type": "markdown",
   "metadata": {},
   "source": [
    "# 3. Load the PDF file and split it in chunks"
   ]
  },
  {
   "cell_type": "code",
   "execution_count": 5,
   "metadata": {},
   "outputs": [
    {
     "name": "stderr",
     "output_type": "stream",
     "text": [
      "Ignoring wrong pointing object 20 0 (offset 0)\n",
      "Ignoring wrong pointing object 23 0 (offset 0)\n",
      "Ignoring wrong pointing object 29 0 (offset 0)\n",
      "Ignoring wrong pointing object 36 0 (offset 0)\n",
      "Ignoring wrong pointing object 39 0 (offset 0)\n",
      "Ignoring wrong pointing object 41 0 (offset 0)\n",
      "Ignoring wrong pointing object 50 0 (offset 0)\n",
      "Ignoring wrong pointing object 67 0 (offset 0)\n",
      "Ignoring wrong pointing object 285 0 (offset 0)\n",
      "Ignoring wrong pointing object 288 0 (offset 0)\n",
      "Ignoring wrong pointing object 295 0 (offset 0)\n",
      "Ignoring wrong pointing object 306 0 (offset 0)\n",
      "Ignoring wrong pointing object 311 0 (offset 0)\n",
      "Ignoring wrong pointing object 324 0 (offset 0)\n",
      "Ignoring wrong pointing object 330 0 (offset 0)\n",
      "Ignoring wrong pointing object 332 0 (offset 0)\n",
      "Ignoring wrong pointing object 339 0 (offset 0)\n",
      "Ignoring wrong pointing object 351 0 (offset 0)\n",
      "Ignoring wrong pointing object 353 0 (offset 0)\n",
      "Ignoring wrong pointing object 360 0 (offset 0)\n",
      "Ignoring wrong pointing object 367 0 (offset 0)\n",
      "Ignoring wrong pointing object 380 0 (offset 0)\n",
      "Ignoring wrong pointing object 384 0 (offset 0)\n",
      "Ignoring wrong pointing object 407 0 (offset 0)\n",
      "Ignoring wrong pointing object 409 0 (offset 0)\n",
      "Ignoring wrong pointing object 411 0 (offset 0)\n",
      "Ignoring wrong pointing object 413 0 (offset 0)\n",
      "Ignoring wrong pointing object 415 0 (offset 0)\n",
      "Ignoring wrong pointing object 417 0 (offset 0)\n",
      "Ignoring wrong pointing object 419 0 (offset 0)\n",
      "Ignoring wrong pointing object 421 0 (offset 0)\n",
      "Ignoring wrong pointing object 423 0 (offset 0)\n",
      "Ignoring wrong pointing object 425 0 (offset 0)\n",
      "Ignoring wrong pointing object 427 0 (offset 0)\n",
      "Ignoring wrong pointing object 429 0 (offset 0)\n",
      "Ignoring wrong pointing object 431 0 (offset 0)\n",
      "Ignoring wrong pointing object 433 0 (offset 0)\n",
      "Ignoring wrong pointing object 435 0 (offset 0)\n",
      "Ignoring wrong pointing object 437 0 (offset 0)\n",
      "Ignoring wrong pointing object 439 0 (offset 0)\n",
      "Ignoring wrong pointing object 441 0 (offset 0)\n",
      "Ignoring wrong pointing object 443 0 (offset 0)\n",
      "Ignoring wrong pointing object 445 0 (offset 0)\n",
      "Ignoring wrong pointing object 447 0 (offset 0)\n",
      "Ignoring wrong pointing object 449 0 (offset 0)\n",
      "Ignoring wrong pointing object 451 0 (offset 0)\n",
      "Ignoring wrong pointing object 453 0 (offset 0)\n",
      "Ignoring wrong pointing object 455 0 (offset 0)\n",
      "Ignoring wrong pointing object 457 0 (offset 0)\n",
      "Ignoring wrong pointing object 459 0 (offset 0)\n",
      "Ignoring wrong pointing object 461 0 (offset 0)\n",
      "Ignoring wrong pointing object 463 0 (offset 0)\n",
      "Ignoring wrong pointing object 465 0 (offset 0)\n",
      "Ignoring wrong pointing object 467 0 (offset 0)\n",
      "Ignoring wrong pointing object 469 0 (offset 0)\n",
      "Ignoring wrong pointing object 471 0 (offset 0)\n",
      "Ignoring wrong pointing object 473 0 (offset 0)\n",
      "Ignoring wrong pointing object 475 0 (offset 0)\n",
      "Ignoring wrong pointing object 477 0 (offset 0)\n",
      "Ignoring wrong pointing object 479 0 (offset 0)\n",
      "Ignoring wrong pointing object 481 0 (offset 0)\n",
      "Ignoring wrong pointing object 483 0 (offset 0)\n",
      "Ignoring wrong pointing object 486 0 (offset 0)\n",
      "Ignoring wrong pointing object 488 0 (offset 0)\n",
      "Ignoring wrong pointing object 590 0 (offset 0)\n",
      "Ignoring wrong pointing object 593 0 (offset 0)\n",
      "Ignoring wrong pointing object 597 0 (offset 0)\n",
      "Ignoring wrong pointing object 611 0 (offset 0)\n",
      "Ignoring wrong pointing object 614 0 (offset 0)\n",
      "Ignoring wrong pointing object 618 0 (offset 0)\n",
      "Ignoring wrong pointing object 624 0 (offset 0)\n",
      "Ignoring wrong pointing object 639 0 (offset 0)\n",
      "Ignoring wrong pointing object 642 0 (offset 0)\n",
      "Ignoring wrong pointing object 645 0 (offset 0)\n",
      "Ignoring wrong pointing object 659 0 (offset 0)\n",
      "Ignoring wrong pointing object 661 0 (offset 0)\n",
      "Ignoring wrong pointing object 667 0 (offset 0)\n",
      "Ignoring wrong pointing object 671 0 (offset 0)\n",
      "Ignoring wrong pointing object 686 0 (offset 0)\n",
      "Ignoring wrong pointing object 688 0 (offset 0)\n",
      "Ignoring wrong pointing object 691 0 (offset 0)\n"
     ]
    },
    {
     "name": "stdout",
     "output_type": "stream",
     "text": [
      "59\n"
     ]
    }
   ],
   "source": [
    "# load the pdf that you want RAG on\n",
    "loader = PyPDFLoader(\"data/world_religions.pdf\")\n",
    "\n",
    "# load function returns a list of all the pages of pdf\n",
    "document_pages = loader.load()\n",
    "\n",
    "# split the document in chunks for easy access to relevant information and avoid providing the whole document in the context\n",
    "text_splitter = RecursiveCharacterTextSplitter(\n",
    "    chunk_size=1000, chunk_overlap=200, length_function=len, separators=[\"\\n\\n\", \"\\n\", \" \"])\n",
    "chunks = text_splitter.split_documents(document_pages)\n",
    "print(len(chunks))"
   ]
  },
  {
   "cell_type": "markdown",
   "metadata": {},
   "source": [
    "# 4. Create embeddings for the document chunks and store them in vector DB"
   ]
  },
  {
   "cell_type": "code",
   "execution_count": 6,
   "metadata": {},
   "outputs": [
    {
     "name": "stderr",
     "output_type": "stream",
     "text": [
      "/var/folders/7m/bl62sr3d3m17_5tx_tly49tw0000gn/T/ipykernel_46380/1761815814.py:25: LangChainDeprecationWarning: Since Chroma 0.4.x the manual persistence method is no longer supported as docs are automatically persisted.\n",
      "  vectorstore.persist()\n"
     ]
    }
   ],
   "source": [
    "PERSIST_DIR = \"vectorstore\"\n",
    "if os.path.exists(PERSIST_DIR):\n",
    "    shutil.rmtree(PERSIST_DIR)\n",
    "\n",
    "# this functions creates embeddings functions which can be used to generate embeddings\n",
    "\n",
    "\n",
    "def embeddings_factory():\n",
    "    return OpenAIEmbeddings(model=\"text-embedding-3-small\", api_key=OPENAI_API_KEY)\n",
    "\n",
    "\n",
    "embeddings_function = embeddings_factory()\n",
    "\n",
    "run_embedding_test = False\n",
    "# a simple test to perform embedding test to see how different words are closer to each other\n",
    "if (run_embedding_test):\n",
    "    from langchain.evaluation import load_evaluator\n",
    "    evaluator = load_evaluator(\n",
    "        evaluator=\"embedding_distance\", embeddings=embeddings_function)\n",
    "    print(evaluator._evaluate_strings(prediction=\"India\", reference=\"Taj Mahal\"))\n",
    "\n",
    "# create a vector store and pass in embeddings_function as the helper function\n",
    "vectorstore = Chroma.from_documents(\n",
    "    documents=chunks, embedding=embeddings_function, persist_directory=PERSIST_DIR)\n",
    "vectorstore.persist()"
   ]
  },
  {
   "cell_type": "markdown",
   "metadata": {},
   "source": [
    "# 5. Query for relevant data from the vectorstore"
   ]
  },
  {
   "cell_type": "code",
   "execution_count": 7,
   "metadata": {},
   "outputs": [],
   "source": [
    "# create a retriever based on similarity search which will search for the relevant docs based on the user query\n",
    "retriever = vectorstore.as_retriever(search_type=\"similarity\")\n",
    "\n",
    "\n",
    "def search_vectorstore(user_query, retriever):\n",
    "    docs = retriever.invoke(user_query)\n",
    "    return docs\n",
    "\n",
    "\n",
    "# following is the question asked by user\n",
    "user_query = \"Put the religion Islam, Chirstianity and Judaism in order of their origination with approx year\"\n",
    "searched_docs = search_vectorstore(user_query=user_query, retriever=retriever)\n",
    "\n",
    "\n",
    "# define a function to concatenate the searched_docs for later use\n",
    "def join_relevant_docs(docs):\n",
    "    relevant_info = \"\\n\\n---\\n\\n\".join(\n",
    "        each_doc.page_content for each_doc in docs)\n",
    "    return relevant_info"
   ]
  },
  {
   "cell_type": "markdown",
   "metadata": {},
   "source": [
    "# # 6. Create the prompt for LLM with the relevant info extracted from vectorstore"
   ]
  },
  {
   "cell_type": "code",
   "execution_count": 8,
   "metadata": {},
   "outputs": [
    {
     "name": "stdout",
     "output_type": "stream",
     "text": [
      "Human: \n",
      "You are an assistant for question-answering tasks. \n",
      "Strictly use the following pieces of retrieved context to answer the question. \n",
      "If you don't know the answer or do not find the relevant information in the context, just say that you don't know. \n",
      "Use three sentences maximum and keep the answer concise.\n",
      "\n",
      "Question: Put the religion Islam, Chirstianity and Judaism in order of their origination with approx year \n",
      "\n",
      "Context: Christianity, Islam, and Judaism are all monotheistic (believe in one god) \n",
      "religions. All three religions were broadly founded on the continent of Asia in \n",
      "the geographic region called the Middle East. These three faiths share \n",
      "common history and traditions. All three have a respect for the Bible, \n",
      "especially the Hebrew Bible or “Old Testament” as all three religions believe \n",
      "in many of the same prophets (messengers of God) such as Abraham and \n",
      "Moses. They all maintain that there is one God and that Jerusalem is a holy \n",
      "city. However, Christianity, Islam and Judaism also differ significantly in both \n",
      "belief and practice. The belief in Jesus is at the forefront of their differences. \n",
      "While Christians believe he is a messiah (savior) and the son of God, Muslims \n",
      "acknowledge him as a prophet only. Still, most Jews deny that he was a \n",
      "prophet or messiah. The following chart is intended to be a brief overview for\n",
      "\n",
      "---\n",
      "\n",
      "Station 4\n",
      "Monotheistic \n",
      "One God=Yahweh (Hebrew name \n",
      "for God as used in Bible)\n",
      "Beliefs about God\n",
      "The Middle East-\n",
      "The religion of the Hebrews. \n",
      "Traces of Judaism are dated back \n",
      "as far as c. 1300 BCE in Ancient \n",
      "Babylonia.\n",
      "Hebrew Bible or Tanakh and the Talmud. \n",
      "The Hebrew Bible - Comprised of thirty-nine \n",
      "books. Torah (Hebrew: 'Law'), Nevi'im ('Prophets') \n",
      "and Ketuvim ('Writings'). The texts are about law, \n",
      "history, prophecy, and wisdom of the ancient people \n",
      "of Israel. \n",
      "For example: The ten commandments are laws given \n",
      "to the Ancient Israelites by God.\n",
      "Talmud - A body of Jewish civil and ceremonial law, \n",
      "customs and culture.\n",
      "Jews do not believe he is the \n",
      "Jewish messiah. He in also not \n",
      "considered a prophet.\n",
      "Muslims believe he was a \n",
      "messenger of god or, prophet.\n",
      "Beliefs about Jesus\n",
      "Texts\n",
      "Orthodox (1800 CE) - Believe both the written and oral Torah represent the word of God.\n",
      "Reform (approximately 1926) -Jewish traditions and ancient laws were modernized to be\n",
      "\n",
      "---\n",
      "\n",
      "TOP “SET OF BELIEFS” OVERVIEW:\n",
      "THE TOP 5 “WORLD RELIGIONS” OVERVIEW:\n",
      "ChristianityIslamJudaismHinduismBuddhism\n",
      "\n",
      "---\n",
      "\n",
      "Beliefs about Jesus\n",
      "Texts\n",
      "Catholic - Original “Roman Catholic” form of \n",
      "Christianity.\n",
      "Greek Orthodox (1054) - After the Great Schism (a \n",
      "disagreement  over the selection of a  pope). \n",
      "Protestant (1500s) - After the Protestant \n",
      "Reformation  initiated mostly by Martin Luther.\n",
      "Major Branches\n",
      "Christians do not view Muhammad as a prophet. Christians believe Jesus was the messiah \n",
      "(savior) that was prophesized about in the Hebrew Bible.\n",
      "called Christians \n",
      "practice Christianity\n",
      "worship in a church\n",
      "Followers & place of Worship\n",
      "53%\n",
      "33%\n",
      "9%\n",
      "5%\n",
      "Catholic\n",
      "Protestant\n",
      "Eastern Orthodox\n",
      "Non Denominational\n",
      "Copyright © 2018 Instructomania\n",
      "Religious Symbols:\n",
      "Percentage of World \n",
      "Population\n",
      "Approximately\n",
      "2 billion \n",
      "\n",
      "Answer:\n",
      "\n"
     ]
    }
   ],
   "source": [
    "# create a prompt temaplate for the LLM to follow\n",
    "prompt_template_str = \"\"\"\n",
    "You are an assistant for question-answering tasks. \n",
    "Strictly use the following pieces of retrieved context to answer the question. \n",
    "If you don't know the answer or do not find the relevant information in the context, just say that you don't know. \n",
    "Use three sentences maximum and keep the answer concise.\n",
    "\n",
    "Question: {question} \n",
    "\n",
    "Context: {context} \n",
    "\n",
    "Answer:\n",
    "\"\"\"\n",
    "\n",
    "# create a prompt and pass it on to LLM\n",
    "prompt_template = ChatPromptTemplate.from_template(prompt_template_str)\n",
    "promt = prompt_template.format(\n",
    "    context=join_relevant_docs(searched_docs), question=user_query)\n",
    "print(promt)"
   ]
  },
  {
   "cell_type": "markdown",
   "metadata": {},
   "source": [
    "# 7. Invoke LLM with the above generated prompt"
   ]
  },
  {
   "cell_type": "code",
   "execution_count": 9,
   "metadata": {},
   "outputs": [
    {
     "name": "stdout",
     "output_type": "stream",
     "text": [
      "Judaism originated around 1300 BCE, followed by Christianity in the 1st century CE, and then Islam in the 7th century CE.\n"
     ]
    }
   ],
   "source": [
    "response = llm.invoke(promt)\n",
    "print(response.content)"
   ]
  },
  {
   "cell_type": "markdown",
   "metadata": {},
   "source": [
    "# 8. Alternate Method of calling the llm and passing prompt using LangChain Chain"
   ]
  },
  {
   "cell_type": "code",
   "execution_count": 10,
   "metadata": {},
   "outputs": [
    {
     "name": "stdout",
     "output_type": "stream",
     "text": [
      "Judaism originated around 1300 BCE, followed by Christianity in the 1st century CE, and then Islam in the 7th century CE.\n"
     ]
    }
   ],
   "source": [
    "rag_chain = (\n",
    "    {\"context\": retriever | join_relevant_docs, \"question\": RunnablePassthrough()}\n",
    "    | prompt_template\n",
    "    | llm\n",
    ")\n",
    "AIMessage = rag_chain.invoke(user_query)\n",
    "print(AIMessage.content)"
   ]
  }
 ],
 "metadata": {
  "kernelspec": {
   "display_name": "venv",
   "language": "python",
   "name": "python3"
  },
  "language_info": {
   "codemirror_mode": {
    "name": "ipython",
    "version": 3
   },
   "file_extension": ".py",
   "mimetype": "text/x-python",
   "name": "python",
   "nbconvert_exporter": "python",
   "pygments_lexer": "ipython3",
   "version": "3.12.5"
  }
 },
 "nbformat": 4,
 "nbformat_minor": 2
}
